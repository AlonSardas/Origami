{
 "cells": [
  {
   "cell_type": "code",
   "execution_count": 2,
   "metadata": {},
   "outputs": [
    {
     "name": "stdout",
     "output_type": "stream",
     "text": [
      "The Gaussian curvature is:\n"
     ]
    },
    {
     "data": {
      "text/latex": [
       "$\\displaystyle \\frac{4 c_{1}^{2} c_{4} l_{1}^{2} l_{4} \\sin^{2}{\\left(\\phi \\right)} \\sin{\\left(\\theta \\right)} \\cos{\\left(\\phi \\right)} \\cos^{2}{\\left(\\theta \\right)} - 4 c_{1}^{2} c_{4} l_{1} l_{2} l_{3} \\sin^{2}{\\left(\\phi \\right)} \\sin{\\left(\\theta \\right)} \\cos{\\left(\\phi \\right)} \\cos^{2}{\\left(\\theta \\right)} - 4 c_{1}^{2} c_{4} l_{1} l_{2} l_{4} \\sin^{2}{\\left(\\phi \\right)} \\sin{\\left(\\theta \\right)} \\cos{\\left(\\phi \\right)} \\cos^{2}{\\left(\\theta \\right)} + 4 c_{1}^{2} c_{4} l_{2}^{2} l_{3} \\sin^{2}{\\left(\\phi \\right)} \\sin{\\left(\\theta \\right)} \\cos{\\left(\\phi \\right)} \\cos^{2}{\\left(\\theta \\right)} - 4 c_{1} c_{2} c_{3} l_{1}^{2} l_{4} \\sin^{2}{\\left(\\phi \\right)} \\sin{\\left(\\theta \\right)} \\cos{\\left(\\phi \\right)} \\cos^{2}{\\left(\\theta \\right)} + 4 c_{1} c_{2} c_{3} l_{1} l_{2} l_{3} \\sin^{2}{\\left(\\phi \\right)} \\sin{\\left(\\theta \\right)} \\cos{\\left(\\phi \\right)} \\cos^{2}{\\left(\\theta \\right)} + 4 c_{1} c_{2} c_{3} l_{1} l_{2} l_{4} \\sin^{2}{\\left(\\phi \\right)} \\sin{\\left(\\theta \\right)} \\cos{\\left(\\phi \\right)} \\cos^{2}{\\left(\\theta \\right)} - 4 c_{1} c_{2} c_{3} l_{2}^{2} l_{3} \\sin^{2}{\\left(\\phi \\right)} \\sin{\\left(\\theta \\right)} \\cos{\\left(\\phi \\right)} \\cos^{2}{\\left(\\theta \\right)} + 4 c_{1} c_{2} c_{4} l_{1}^{2} l_{4} \\sin^{2}{\\left(\\phi \\right)} \\sin{\\left(\\theta \\right)} \\cos{\\left(\\phi \\right)} \\cos^{2}{\\left(\\theta \\right)} - 4 c_{1} c_{2} c_{4} l_{1} l_{2} l_{3} \\sin^{2}{\\left(\\phi \\right)} \\sin{\\left(\\theta \\right)} \\cos{\\left(\\phi \\right)} \\cos^{2}{\\left(\\theta \\right)} - 4 c_{1} c_{2} c_{4} l_{1} l_{2} l_{4} \\sin^{2}{\\left(\\phi \\right)} \\sin{\\left(\\theta \\right)} \\cos{\\left(\\phi \\right)} \\cos^{2}{\\left(\\theta \\right)} + 4 c_{1} c_{2} c_{4} l_{2}^{2} l_{3} \\sin^{2}{\\left(\\phi \\right)} \\sin{\\left(\\theta \\right)} \\cos{\\left(\\phi \\right)} \\cos^{2}{\\left(\\theta \\right)} - 4 c_{2}^{2} c_{3} l_{1}^{2} l_{4} \\sin^{2}{\\left(\\phi \\right)} \\sin{\\left(\\theta \\right)} \\cos{\\left(\\phi \\right)} \\cos^{2}{\\left(\\theta \\right)} + 4 c_{2}^{2} c_{3} l_{1} l_{2} l_{3} \\sin^{2}{\\left(\\phi \\right)} \\sin{\\left(\\theta \\right)} \\cos{\\left(\\phi \\right)} \\cos^{2}{\\left(\\theta \\right)} + 4 c_{2}^{2} c_{3} l_{1} l_{2} l_{4} \\sin^{2}{\\left(\\phi \\right)} \\sin{\\left(\\theta \\right)} \\cos{\\left(\\phi \\right)} \\cos^{2}{\\left(\\theta \\right)} - 4 c_{2}^{2} c_{3} l_{2}^{2} l_{3} \\sin^{2}{\\left(\\phi \\right)} \\sin{\\left(\\theta \\right)} \\cos{\\left(\\phi \\right)} \\cos^{2}{\\left(\\theta \\right)}}{\\sqrt{\\left|{c_{1} \\sin{\\left(\\phi \\right)} + c_{2} \\sin{\\left(\\phi \\right)}}\\right|^{2} + \\left|{c_{1} \\cos{\\left(\\phi \\right)} - c_{2} \\cos{\\left(\\phi \\right)}}\\right|^{2}} \\sqrt{\\left|{l_{1} \\sin{\\left(\\theta \\right)} + l_{2} \\sin{\\left(\\theta \\right)}}\\right|^{2} + \\left|{l_{1} \\cos{\\left(\\theta \\right)} - l_{2} \\cos{\\left(\\theta \\right)}}\\right|^{2}} \\left|{c_{1} l_{1} \\sin{\\left(\\phi \\right)} \\sin{\\left(\\theta \\right)} + c_{1} l_{2} \\sin{\\left(\\phi \\right)} \\sin{\\left(\\theta \\right)} + c_{2} l_{1} \\sin{\\left(\\phi \\right)} \\sin{\\left(\\theta \\right)} + c_{2} l_{2} \\sin{\\left(\\phi \\right)} \\sin{\\left(\\theta \\right)}}\\right|^{2} + \\sqrt{\\left|{c_{1} \\sin{\\left(\\phi \\right)} + c_{2} \\sin{\\left(\\phi \\right)}}\\right|^{2} + \\left|{c_{1} \\cos{\\left(\\phi \\right)} - c_{2} \\cos{\\left(\\phi \\right)}}\\right|^{2}} \\sqrt{\\left|{l_{1} \\sin{\\left(\\theta \\right)} + l_{2} \\sin{\\left(\\theta \\right)}}\\right|^{2} + \\left|{l_{1} \\cos{\\left(\\theta \\right)} - l_{2} \\cos{\\left(\\theta \\right)}}\\right|^{2}} \\left|{c_{1} l_{1} \\sin{\\left(\\phi \\right)} \\cos{\\left(\\theta \\right)} - c_{1} l_{2} \\sin{\\left(\\phi \\right)} \\cos{\\left(\\theta \\right)} + c_{2} l_{1} \\sin{\\left(\\phi \\right)} \\cos{\\left(\\theta \\right)} - c_{2} l_{2} \\sin{\\left(\\phi \\right)} \\cos{\\left(\\theta \\right)}}\\right|^{2} + \\sqrt{\\left|{c_{1} \\sin{\\left(\\phi \\right)} + c_{2} \\sin{\\left(\\phi \\right)}}\\right|^{2} + \\left|{c_{1} \\cos{\\left(\\phi \\right)} - c_{2} \\cos{\\left(\\phi \\right)}}\\right|^{2}} \\sqrt{\\left|{l_{1} \\sin{\\left(\\theta \\right)} + l_{2} \\sin{\\left(\\theta \\right)}}\\right|^{2} + \\left|{l_{1} \\cos{\\left(\\theta \\right)} - l_{2} \\cos{\\left(\\theta \\right)}}\\right|^{2}} \\left|{c_{1} l_{1} \\cos{\\left(\\phi \\right)} \\cos{\\left(\\theta \\right)} - c_{1} l_{2} \\cos{\\left(\\phi \\right)} \\cos{\\left(\\theta \\right)} - c_{2} l_{1} \\cos{\\left(\\phi \\right)} \\cos{\\left(\\theta \\right)} + c_{2} l_{2} \\cos{\\left(\\phi \\right)} \\cos{\\left(\\theta \\right)}}\\right|^{2}}$"
      ],
      "text/plain": [
       "(4*c_1**2*c_4*l_1**2*l_4*sin(\\phi)**2*sin(\\theta)*cos(\\phi)*cos(\\theta)**2 - 4*c_1**2*c_4*l_1*l_2*l_3*sin(\\phi)**2*sin(\\theta)*cos(\\phi)*cos(\\theta)**2 - 4*c_1**2*c_4*l_1*l_2*l_4*sin(\\phi)**2*sin(\\theta)*cos(\\phi)*cos(\\theta)**2 + 4*c_1**2*c_4*l_2**2*l_3*sin(\\phi)**2*sin(\\theta)*cos(\\phi)*cos(\\theta)**2 - 4*c_1*c_2*c_3*l_1**2*l_4*sin(\\phi)**2*sin(\\theta)*cos(\\phi)*cos(\\theta)**2 + 4*c_1*c_2*c_3*l_1*l_2*l_3*sin(\\phi)**2*sin(\\theta)*cos(\\phi)*cos(\\theta)**2 + 4*c_1*c_2*c_3*l_1*l_2*l_4*sin(\\phi)**2*sin(\\theta)*cos(\\phi)*cos(\\theta)**2 - 4*c_1*c_2*c_3*l_2**2*l_3*sin(\\phi)**2*sin(\\theta)*cos(\\phi)*cos(\\theta)**2 + 4*c_1*c_2*c_4*l_1**2*l_4*sin(\\phi)**2*sin(\\theta)*cos(\\phi)*cos(\\theta)**2 - 4*c_1*c_2*c_4*l_1*l_2*l_3*sin(\\phi)**2*sin(\\theta)*cos(\\phi)*cos(\\theta)**2 - 4*c_1*c_2*c_4*l_1*l_2*l_4*sin(\\phi)**2*sin(\\theta)*cos(\\phi)*cos(\\theta)**2 + 4*c_1*c_2*c_4*l_2**2*l_3*sin(\\phi)**2*sin(\\theta)*cos(\\phi)*cos(\\theta)**2 - 4*c_2**2*c_3*l_1**2*l_4*sin(\\phi)**2*sin(\\theta)*cos(\\phi)*cos(\\theta)**2 + 4*c_2**2*c_3*l_1*l_2*l_3*sin(\\phi)**2*sin(\\theta)*cos(\\phi)*cos(\\theta)**2 + 4*c_2**2*c_3*l_1*l_2*l_4*sin(\\phi)**2*sin(\\theta)*cos(\\phi)*cos(\\theta)**2 - 4*c_2**2*c_3*l_2**2*l_3*sin(\\phi)**2*sin(\\theta)*cos(\\phi)*cos(\\theta)**2)/(sqrt(Abs(c_1*sin(\\phi) + c_2*sin(\\phi))**2 + Abs(c_1*cos(\\phi) - c_2*cos(\\phi))**2)*sqrt(Abs(l_1*sin(\\theta) + l_2*sin(\\theta))**2 + Abs(l_1*cos(\\theta) - l_2*cos(\\theta))**2)*Abs(c_1*l_1*sin(\\phi)*sin(\\theta) + c_1*l_2*sin(\\phi)*sin(\\theta) + c_2*l_1*sin(\\phi)*sin(\\theta) + c_2*l_2*sin(\\phi)*sin(\\theta))**2 + sqrt(Abs(c_1*sin(\\phi) + c_2*sin(\\phi))**2 + Abs(c_1*cos(\\phi) - c_2*cos(\\phi))**2)*sqrt(Abs(l_1*sin(\\theta) + l_2*sin(\\theta))**2 + Abs(l_1*cos(\\theta) - l_2*cos(\\theta))**2)*Abs(c_1*l_1*sin(\\phi)*cos(\\theta) - c_1*l_2*sin(\\phi)*cos(\\theta) + c_2*l_1*sin(\\phi)*cos(\\theta) - c_2*l_2*sin(\\phi)*cos(\\theta))**2 + sqrt(Abs(c_1*sin(\\phi) + c_2*sin(\\phi))**2 + Abs(c_1*cos(\\phi) - c_2*cos(\\phi))**2)*sqrt(Abs(l_1*sin(\\theta) + l_2*sin(\\theta))**2 + Abs(l_1*cos(\\theta) - l_2*cos(\\theta))**2)*Abs(c_1*l_1*cos(\\phi)*cos(\\theta) - c_1*l_2*cos(\\phi)*cos(\\theta) - c_2*l_1*cos(\\phi)*cos(\\theta) + c_2*l_2*cos(\\phi)*cos(\\theta))**2)"
      ]
     },
     "metadata": {},
     "output_type": "display_data"
    },
    {
     "name": "stdout",
     "output_type": "stream",
     "text": [
      "The mean curvature is:\n"
     ]
    },
    {
     "data": {
      "text/latex": [
       "$\\displaystyle \\frac{0.5 \\left(c_{1} + c_{2}\\right) \\left(\\left(l_{1} - l_{2}\\right) \\left(l_{3} + l_{4}\\right) - \\left(l_{1} + l_{2}\\right) \\left(l_{3} - l_{4}\\right)\\right) \\sin{\\left(\\phi \\right)} \\sin{\\left(\\theta \\right)} \\cos{\\left(\\theta \\right)}}{\\sqrt{\\left|{\\left(l_{1} - l_{2}\\right) \\cos{\\left(\\theta \\right)}}\\right|^{2} + \\left|{\\left(l_{1} + l_{2}\\right) \\sin{\\left(\\theta \\right)}}\\right|^{2}} \\sqrt{\\left|{\\left(c_{1} - c_{2}\\right) \\left(l_{1} - l_{2}\\right) \\cos{\\left(\\phi \\right)} \\cos{\\left(\\theta \\right)}}\\right|^{2} + \\left|{\\left(c_{1} + c_{2}\\right) \\left(l_{1} - l_{2}\\right) \\sin{\\left(\\phi \\right)} \\cos{\\left(\\theta \\right)}}\\right|^{2} + \\left|{\\left(c_{1} + c_{2}\\right) \\left(l_{1} + l_{2}\\right) \\sin{\\left(\\phi \\right)} \\sin{\\left(\\theta \\right)}}\\right|^{2}}} + \\frac{0.5 \\left(l_{1} - l_{2}\\right) \\left(\\left(c_{1} - c_{2}\\right) \\left(c_{3} + c_{4}\\right) - \\left(c_{1} + c_{2}\\right) \\left(c_{3} - c_{4}\\right)\\right) \\sin{\\left(\\phi \\right)} \\cos{\\left(\\phi \\right)} \\cos{\\left(\\theta \\right)}}{\\sqrt{\\left|{\\left(c_{1} - c_{2}\\right) \\cos{\\left(\\phi \\right)}}\\right|^{2} + \\left|{\\left(c_{1} + c_{2}\\right) \\sin{\\left(\\phi \\right)}}\\right|^{2}} \\sqrt{\\left|{\\left(c_{1} - c_{2}\\right) \\left(l_{1} - l_{2}\\right) \\cos{\\left(\\phi \\right)} \\cos{\\left(\\theta \\right)}}\\right|^{2} + \\left|{\\left(c_{1} + c_{2}\\right) \\left(l_{1} - l_{2}\\right) \\sin{\\left(\\phi \\right)} \\cos{\\left(\\theta \\right)}}\\right|^{2} + \\left|{\\left(c_{1} + c_{2}\\right) \\left(l_{1} + l_{2}\\right) \\sin{\\left(\\phi \\right)} \\sin{\\left(\\theta \\right)}}\\right|^{2}}}$"
      ],
      "text/plain": [
       "0.5*(c_1 + c_2)*((l_1 - l_2)*(l_3 + l_4) - (l_1 + l_2)*(l_3 - l_4))*sin(\\phi)*sin(\\theta)*cos(\\theta)/(sqrt(Abs((l_1 - l_2)*cos(\\theta))**2 + Abs((l_1 + l_2)*sin(\\theta))**2)*sqrt(Abs((c_1 - c_2)*(l_1 - l_2)*cos(\\phi)*cos(\\theta))**2 + Abs((c_1 + c_2)*(l_1 - l_2)*sin(\\phi)*cos(\\theta))**2 + Abs((c_1 + c_2)*(l_1 + l_2)*sin(\\phi)*sin(\\theta))**2)) + 0.5*(l_1 - l_2)*((c_1 - c_2)*(c_3 + c_4) - (c_1 + c_2)*(c_3 - c_4))*sin(\\phi)*cos(\\phi)*cos(\\theta)/(sqrt(Abs((c_1 - c_2)*cos(\\phi))**2 + Abs((c_1 + c_2)*sin(\\phi))**2)*sqrt(Abs((c_1 - c_2)*(l_1 - l_2)*cos(\\phi)*cos(\\theta))**2 + Abs((c_1 + c_2)*(l_1 - l_2)*sin(\\phi)*cos(\\theta))**2 + Abs((c_1 + c_2)*(l_1 + l_2)*sin(\\phi)*sin(\\theta))**2))"
      ]
     },
     "metadata": {},
     "output_type": "display_data"
    },
    {
     "name": "stdout",
     "output_type": "stream",
     "text": [
      "b_11 is:\n"
     ]
    },
    {
     "data": {
      "text/latex": [
       "$\\displaystyle \\frac{\\left(l_{1} - l_{2}\\right) \\left(\\left(c_{1} - c_{2}\\right) \\left(c_{3} + c_{4}\\right) - \\left(c_{1} + c_{2}\\right) \\left(c_{3} - c_{4}\\right)\\right) \\sin{\\left(\\phi \\right)} \\cos{\\left(\\phi \\right)} \\cos{\\left(\\theta \\right)}}{\\sqrt{\\left|{\\left(c_{1} - c_{2}\\right) \\cos{\\left(\\phi \\right)}}\\right|^{2} + \\left|{\\left(c_{1} + c_{2}\\right) \\sin{\\left(\\phi \\right)}}\\right|^{2}} \\sqrt{\\left|{\\left(c_{1} - c_{2}\\right) \\left(l_{1} - l_{2}\\right) \\cos{\\left(\\phi \\right)} \\cos{\\left(\\theta \\right)}}\\right|^{2} + \\left|{\\left(c_{1} + c_{2}\\right) \\left(l_{1} - l_{2}\\right) \\sin{\\left(\\phi \\right)} \\cos{\\left(\\theta \\right)}}\\right|^{2} + \\left|{\\left(c_{1} + c_{2}\\right) \\left(l_{1} + l_{2}\\right) \\sin{\\left(\\phi \\right)} \\sin{\\left(\\theta \\right)}}\\right|^{2}}}$"
      ],
      "text/plain": [
       "(l_1 - l_2)*((c_1 - c_2)*(c_3 + c_4) - (c_1 + c_2)*(c_3 - c_4))*sin(\\phi)*cos(\\phi)*cos(\\theta)/(sqrt(Abs((c_1 - c_2)*cos(\\phi))**2 + Abs((c_1 + c_2)*sin(\\phi))**2)*sqrt(Abs((c_1 - c_2)*(l_1 - l_2)*cos(\\phi)*cos(\\theta))**2 + Abs((c_1 + c_2)*(l_1 - l_2)*sin(\\phi)*cos(\\theta))**2 + Abs((c_1 + c_2)*(l_1 + l_2)*sin(\\phi)*sin(\\theta))**2))"
      ]
     },
     "metadata": {},
     "output_type": "display_data"
    },
    {
     "name": "stdout",
     "output_type": "stream",
     "text": [
      "b_22 is:\n"
     ]
    },
    {
     "data": {
      "text/latex": [
       "$\\displaystyle \\frac{\\left(c_{1} + c_{2}\\right) \\left(\\left(l_{1} - l_{2}\\right) \\left(l_{3} + l_{4}\\right) - \\left(l_{1} + l_{2}\\right) \\left(l_{3} - l_{4}\\right)\\right) \\sin{\\left(\\phi \\right)} \\sin{\\left(\\theta \\right)} \\cos{\\left(\\theta \\right)}}{\\sqrt{\\left|{\\left(l_{1} - l_{2}\\right) \\cos{\\left(\\theta \\right)}}\\right|^{2} + \\left|{\\left(l_{1} + l_{2}\\right) \\sin{\\left(\\theta \\right)}}\\right|^{2}} \\sqrt{\\left|{\\left(c_{1} - c_{2}\\right) \\left(l_{1} - l_{2}\\right) \\cos{\\left(\\phi \\right)} \\cos{\\left(\\theta \\right)}}\\right|^{2} + \\left|{\\left(c_{1} + c_{2}\\right) \\left(l_{1} - l_{2}\\right) \\sin{\\left(\\phi \\right)} \\cos{\\left(\\theta \\right)}}\\right|^{2} + \\left|{\\left(c_{1} + c_{2}\\right) \\left(l_{1} + l_{2}\\right) \\sin{\\left(\\phi \\right)} \\sin{\\left(\\theta \\right)}}\\right|^{2}}}$"
      ],
      "text/plain": [
       "(c_1 + c_2)*((l_1 - l_2)*(l_3 + l_4) - (l_1 + l_2)*(l_3 - l_4))*sin(\\phi)*sin(\\theta)*cos(\\theta)/(sqrt(Abs((l_1 - l_2)*cos(\\theta))**2 + Abs((l_1 + l_2)*sin(\\theta))**2)*sqrt(Abs((c_1 - c_2)*(l_1 - l_2)*cos(\\phi)*cos(\\theta))**2 + Abs((c_1 + c_2)*(l_1 - l_2)*sin(\\phi)*cos(\\theta))**2 + Abs((c_1 + c_2)*(l_1 + l_2)*sin(\\phi)*sin(\\theta))**2))"
      ]
     },
     "metadata": {},
     "output_type": "display_data"
    }
   ],
   "source": [
    "from sympy import *\n",
    "import sympyutils\n",
    "from IPython.display import display\n",
    "\n",
    "\n",
    "c1, c2, c3, c4 = symbols('c_1, c_2, c_3, c_4')\n",
    "l1, l2, l3, l4 = symbols('l_1, l_2, l_3, l_4')\n",
    "theta, phi = symbols(r'\\theta, \\phi')\n",
    "\n",
    "def calc_dx(c1,c2,phi):\n",
    "    return Matrix([\n",
    "        (c1+c2)*sin(phi),\n",
    "        (c2-c1)*cos(phi),\n",
    "        0])\n",
    "\n",
    "def calc_dy(l1, l2, theta):\n",
    "    return Matrix([\n",
    "        0,\n",
    "        (l1+l2)*sin(theta),\n",
    "        (l2-l1)*cos(theta)])\n",
    "\n",
    "def calc_n(l1, l2, c1, c2, theta, phi):\n",
    "    N = Matrix([\n",
    "        (c2 - c1) * (l2 - l1) * cos(phi) * cos(theta),\n",
    "        (c1 + c2) * (l1 - l2) * sin(phi) * cos(theta),\n",
    "        (c2 + c1) * (l2 + l1) * sin(phi) * sin(theta)\n",
    "    ])\n",
    "    n = N / N.norm()\n",
    "    # n.simplify()\n",
    "    return n\n",
    "\n",
    "dx = calc_dx(c1, c2, phi)\n",
    "dy = calc_dy(l1, l2, theta)\n",
    "dx_dx = calc_dx(c3, c4, phi)\n",
    "dy_dy = calc_dy(l3, l4, theta)\n",
    "\n",
    "n = calc_n(l1, l2, c1, c2, theta, phi)\n",
    "\n",
    "B = Matrix([\n",
    "    [dx_dx.dot(n) / dx.norm(),0], \n",
    "    [0, dy_dy.dot(n) / dy.norm()]]\n",
    ")\n",
    "B.simplify()\n",
    "\n",
    "Gaussian_curvature = B.det()\n",
    "# Gaussian_curvature.simplify()\n",
    "# Gaussian_curvature.collect()\n",
    "print(\"The Gaussian curvature is:\")\n",
    "display(Gaussian_curvature)\n",
    "\n",
    "mean_curvature = 1/2*B.trace()\n",
    "mean_curvature.simplify()\n",
    "print(\"The mean curvature is:\")\n",
    "display(mean_curvature)\n",
    "\n",
    "print(\"b_11 is:\")\n",
    "display(B[0,0])\n",
    "print(\"b_22 is:\")\n",
    "display(B[1,1])"
   ]
  },
  {
   "cell_type": "raw",
   "metadata": {},
   "source": [
    "n = calc_n(l1, l2, c1, c2, theta, phi)\n",
    "n_dx = calc_n(l1, l2, c3, c4, theta, phi)\n",
    "n_dy = calc_n(l3, l4, c1, c2, theta, phi)\n",
    "\n",
    "\n",
    "b_old = -Matrix([\n",
    "    [(n_dx-n).dot(dx)/dx.norm(), (n_dx-n).dot(dy)/dx.norm()], \n",
    "    [(n_dy-n).dot(dx)/dy.norm(), (n_dy-n).dot(dy)/dy.norm()]]\n",
    ")"
   ]
  },
  {
   "cell_type": "code",
   "execution_count": 30,
   "metadata": {},
   "outputs": [
    {
     "data": {
      "image/png": "[encoded data removed]",
      "text/latex": [
       "$\\displaystyle - 4 c_{1}^{2} c_{3} l_{1} l_{2} l_{4} + 4 c_{1}^{2} c_{3} l_{2}^{2} l_{4} + 4 c_{1}^{2} c_{4} l_{1}^{2} l_{4} - 4 c_{1}^{2} c_{4} l_{1} l_{2} l_{4} + 4 c_{1} c_{2} c_{3} l_{1} l_{2} l_{3} - 4 c_{1} c_{2} c_{3} l_{1} l_{2} l_{4} - 4 c_{1} c_{2} c_{3} l_{2}^{2} l_{3} + 4 c_{1} c_{2} c_{3} l_{2}^{2} l_{4} - 4 c_{1} c_{2} c_{4} l_{1}^{2} l_{3} + 4 c_{1} c_{2} c_{4} l_{1}^{2} l_{4} + 4 c_{1} c_{2} c_{4} l_{1} l_{2} l_{3} - 4 c_{1} c_{2} c_{4} l_{1} l_{2} l_{4} + 4 c_{2}^{2} c_{3} l_{1} l_{2} l_{3} - 4 c_{2}^{2} c_{3} l_{2}^{2} l_{3} - 4 c_{2}^{2} c_{4} l_{1}^{2} l_{3} + 4 c_{2}^{2} c_{4} l_{1} l_{2} l_{3}$"
      ],
      "text/plain": [
       "         2                                  2            2                2   \n",
       "- 4⋅c_{1} ⋅c_{3}⋅l_{1}⋅l_{2}⋅l_{4} + 4⋅c_{1} ⋅c_{3}⋅l_{2} ⋅l_{4} + 4⋅c_{1} ⋅c_\n",
       "\n",
       "         2                2                                                   \n",
       "{4}⋅l_{1} ⋅l_{4} - 4⋅c_{1} ⋅c_{4}⋅l_{1}⋅l_{2}⋅l_{4} + 4⋅c_{1}⋅c_{2}⋅c_{3}⋅l_{1\n",
       "\n",
       "                                                                              \n",
       "}⋅l_{2}⋅l_{3} - 4⋅c_{1}⋅c_{2}⋅c_{3}⋅l_{1}⋅l_{2}⋅l_{4} - 4⋅c_{1}⋅c_{2}⋅c_{3}⋅l_\n",
       "\n",
       "   2                                  2                                  2    \n",
       "{2} ⋅l_{3} + 4⋅c_{1}⋅c_{2}⋅c_{3}⋅l_{2} ⋅l_{4} - 4⋅c_{1}⋅c_{2}⋅c_{4}⋅l_{1} ⋅l_{\n",
       "\n",
       "                              2                                               \n",
       "3} + 4⋅c_{1}⋅c_{2}⋅c_{4}⋅l_{1} ⋅l_{4} + 4⋅c_{1}⋅c_{2}⋅c_{4}⋅l_{1}⋅l_{2}⋅l_{3} \n",
       "\n",
       "                                                 2                            \n",
       "- 4⋅c_{1}⋅c_{2}⋅c_{4}⋅l_{1}⋅l_{2}⋅l_{4} + 4⋅c_{2} ⋅c_{3}⋅l_{1}⋅l_{2}⋅l_{3} - 4\n",
       "\n",
       "      2            2                2            2                2           \n",
       "⋅c_{2} ⋅c_{3}⋅l_{2} ⋅l_{3} - 4⋅c_{2} ⋅c_{4}⋅l_{1} ⋅l_{3} + 4⋅c_{2} ⋅c_{4}⋅l_{1\n",
       "\n",
       "             \n",
       "}⋅l_{2}⋅l_{3}"
      ]
     },
     "metadata": {},
     "output_type": "display_data"
    }
   ],
   "source": [
    "# print(latex(B[0, 0] * B[1, 1]))\n",
    "a = sympyutils.from_latex(r'\\left(c_{1}+c_{2}\\right)\\left(l_{1}-l_{2}\\right)\\left(\\left(c_{1}-c_{2}\\right)\\left(l_{3}+l_{4}\\right)-\\left(c_{1}+c_{2}\\right)\\left(l_{3}-l_{4}\\right)\\right)\\left(-\\left(c_{3}-c_{4}\\right)\\left(l_{1}+l_{2}\\right)+\\left(c_{3}+c_{4}\\right)\\left(l_{1}-l_{2}\\right)\\right)')\n",
    "a.simplify()\n",
    "a=a.expand().expand().expand()\n",
    "display(a)\n"
   ]
  },
  {
   "cell_type": "raw",
   "metadata": {},
   "source": [
    "B"
   ]
  }
 ],
 "metadata": {
  "kernelspec": {
   "display_name": "Python 3",
   "language": "python",
   "name": "python3"
  },
  "language_info": {
   "codemirror_mode": {
    "name": "ipython",
    "version": 3
   },
   "file_extension": ".py",
   "mimetype": "text/x-python",
   "name": "python",
   "nbconvert_exporter": "python",
   "pygments_lexer": "ipython3",
   "version": "3.8.10"
  }
 },
 "nbformat": 4,
 "nbformat_minor": 4
}
